{
 "cells": [
  {
   "cell_type": "code",
   "execution_count": 1,
   "metadata": {},
   "outputs": [],
   "source": [
    "import sys\n",
    "sys.path.append('..')\n",
    "from pdf.filegenerator import PDFdata\n",
    "# from pdf.util import registor_fonts"
   ]
  },
  {
   "cell_type": "code",
   "execution_count": 3,
   "metadata": {
    "scrolled": true
   },
   "outputs": [],
   "source": [
    "pdfFile = PDFdata()\n",
    "pdfFile.setTitle('title')\n",
    "pdfFile.setSubject('subject')\n",
    "pdfFile.setPageSize(300, 800)\n",
    "pdfFile.drawString(.5, .5, 'Test', align='c', font_info={'Fraktur', 30})\n",
    "pdfFile.drawLine(.05, .45, .2, direction='v')\n",
    "pdfFile.drawFreeLine(.1, .1, .9, .9)\n",
    "pdfFile.export('test3.pdf')"
   ]
  },
  {
   "cell_type": "code",
   "execution_count": null,
   "metadata": {},
   "outputs": [],
   "source": []
  },
  {
   "cell_type": "code",
   "execution_count": null,
   "metadata": {},
   "outputs": [],
   "source": []
  }
 ],
 "metadata": {
  "kernelspec": {
   "display_name": "Python 3",
   "language": "python",
   "name": "python3"
  },
  "language_info": {
   "codemirror_mode": {
    "name": "ipython",
    "version": 3
   },
   "file_extension": ".py",
   "mimetype": "text/x-python",
   "name": "python",
   "nbconvert_exporter": "python",
   "pygments_lexer": "ipython3",
   "version": "3.7.4"
  }
 },
 "nbformat": 4,
 "nbformat_minor": 4
}
